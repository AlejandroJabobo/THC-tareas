{
  "nbformat": 4,
  "nbformat_minor": 0,
  "metadata": {
    "colab": {
      "provenance": [],
      "authorship_tag": "ABX9TyODD0mYUYJdfs+KP6a+a14e",
      "include_colab_link": true
    },
    "kernelspec": {
      "name": "python3",
      "display_name": "Python 3"
    },
    "language_info": {
      "name": "python"
    }
  },
  "cells": [
    {
      "cell_type": "markdown",
      "metadata": {
        "id": "view-in-github",
        "colab_type": "text"
      },
      "source": [
        "<a href=\"https://colab.research.google.com/github/AlejandroJabobo/THC-tareas/blob/main/Tarea_Phyton.ipynb\" target=\"_parent\"><img src=\"https://colab.research.google.com/assets/colab-badge.svg\" alt=\"Open In Colab\"/></a>"
      ]
    },
    {
      "cell_type": "markdown",
      "source": [
        "# **Tarea THC**\n",
        "\n",
        "**Integrantes:**\n",
        "\n",
        "Joshua Raúl Ugarte\n",
        "\n",
        "Hubert Alejandro García Jacobo\n"
      ],
      "metadata": {
        "id": "ILx2rZpdfmYx"
      }
    },
    {
      "cell_type": "code",
      "execution_count": 28,
      "metadata": {
        "colab": {
          "base_uri": "https://localhost:8080/"
        },
        "id": "_TEDc5tZfluT",
        "outputId": "f0983595-f922-4ca7-d79f-f1a4a2cdfdb1"
      },
      "outputs": [
        {
          "output_type": "stream",
          "name": "stdout",
          "text": [
            "la suma de las matrices es: [[11 13 15]\n",
            " [17 19 21]\n",
            " [23 25 27]]\n"
          ]
        }
      ],
      "source": [
        "#1. Sumas de matrices rectangulares.\n",
        "import numpy as np\n",
        "\n",
        "# Definir las matrices que se van a sumar\n",
        "M1 = np.array([[1, 2, 3], [4, 5, 6], [7, 8, 9]])\n",
        "\n",
        "M2 = np.array([[10, 11, 12], [13, 14, 15], [16, 17, 18]])\n",
        "\n",
        "# Sumar las matrices\n",
        "Suma = M1 + M2\n",
        "\n",
        "# Imprimir la matriz\n",
        "print(f\"la suma de las matrices es: {Suma}\")"
      ]
    },
    {
      "cell_type": "code",
      "source": [
        "#2. Multiplicación entrada a entrada rectangulares.\n",
        "\n",
        "# Definir las matrices que se van a sumar\n",
        "M1 = np.array([[1, 2, 3], [4, 5, 6], [7, 8, 9]])\n",
        "\n",
        "M2 = np.array([[10, 11, 12], [13, 14, 15], [16, 17, 18]])\n",
        "\n",
        " # multiplicar las entradas\n",
        "Multiplicacion= M1 * M2\n",
        "\n",
        "    # Imprimir la matriz resultado\n",
        "print(f\"la multiplicacion de las matrices es:{ Multiplicacion}\")"
      ],
      "metadata": {
        "colab": {
          "base_uri": "https://localhost:8080/"
        },
        "id": "Aie6CoLAidow",
        "outputId": "f5416b78-ade8-42e9-b31c-e9c394c35a80"
      },
      "execution_count": 29,
      "outputs": [
        {
          "output_type": "stream",
          "name": "stdout",
          "text": [
            "la multiplicacion de las matrices es:[[ 10  22  36]\n",
            " [ 52  70  90]\n",
            " [112 136 162]]\n"
          ]
        }
      ]
    },
    {
      "cell_type": "code",
      "source": [
        "#3. La Traza\n",
        "def calcular_traza():\n",
        "# primero creamos una matriz 3x3 llena de ceros\n",
        "    matriz = np.zeros((3, 3))\n",
        "\n",
        "    # solicitamos al usuario que introduzca los valores de la matriz\n",
        "    print(\"Hola! Vamos a calcular la traza de una matriz 3x3.\")\n",
        "    for fila in range(3):\n",
        "        for columna in range(3):\n",
        "            valor = float(input(f\"Ingrese el valor en la posición ({fila + 1}, {columna + 1}): \"))\n",
        "            matriz[fila, columna] = valor\n",
        "\n",
        "    # aqui se calcula la traza de la matriz\n",
        "    traza = np.trace(matriz)\n",
        "\n",
        "    # se imprime la matriz\n",
        "    print(\"La matriz que has ingresado es la siguiente:\")\n",
        "    print(matriz)\n",
        "\n",
        "    # se imrpime la traza\n",
        "    print(f\"La traza de la matriz es: {traza}\")\n",
        "\n",
        "# llamamos a la función\n",
        "calcular_traza()\n"
      ],
      "metadata": {
        "colab": {
          "base_uri": "https://localhost:8080/"
        },
        "id": "b1rrnaR0kWRJ",
        "outputId": "06d05c53-6703-4d05-b663-efbe3ab21110"
      },
      "execution_count": 15,
      "outputs": [
        {
          "output_type": "stream",
          "name": "stdout",
          "text": [
            "Hola! Vamos a calcular la traza de una matriz 3x3.\n",
            "Ingrese el valor en la posición (1, 1): 1\n",
            "Ingrese el valor en la posición (1, 2): 2\n",
            "Ingrese el valor en la posición (1, 3): 3\n",
            "Ingrese el valor en la posición (2, 1): 4\n",
            "Ingrese el valor en la posición (2, 2): 5\n",
            "Ingrese el valor en la posición (2, 3): 6\n",
            "Ingrese el valor en la posición (3, 1): 7\n",
            "Ingrese el valor en la posición (3, 2): 8\n",
            "Ingrese el valor en la posición (3, 3): 9\n",
            "La matriz que has ingresado es la siguiente:\n",
            "[[1. 2. 3.]\n",
            " [4. 5. 6.]\n",
            " [7. 8. 9.]]\n",
            "La traza de la matriz es: 15.0\n"
          ]
        }
      ]
    },
    {
      "cell_type": "code",
      "source": [
        "\n",
        "# Definir una matriz\n",
        "M1 = np.array([[1, 2, 3], [4, 5, 6], [7, 8, 9]])\n",
        "\n",
        "# Definir una función para realizar la transposición\n",
        "def transponer(M1):\n",
        "    # Crear una lista vacía donde se creará la nueva matriz\n",
        "    M2 = []\n",
        "    for i in range(len(M1)):\n",
        "        M2.append([])\n",
        "        for j in range(len(M1)):\n",
        "            M2[i].append(M1[j][i])\n",
        "\n",
        "    return M2\n",
        "\n",
        "# Llamar a la función para calcular la transpuesta\n",
        "M2 = transponer(M1)\n",
        "\n",
        "# Imprimir la matriz transpuesta\n",
        "for x in M2:\n",
        "  print(x)\n",
        "\n",
        "\n",
        "\n",
        "\n",
        "\n",
        "\n",
        "\n"
      ],
      "metadata": {
        "colab": {
          "base_uri": "https://localhost:8080/"
        },
        "id": "ZgItGcdOlU5C",
        "outputId": "4998daea-9680-41e8-d961-58278bbde8f9"
      },
      "execution_count": 41,
      "outputs": [
        {
          "output_type": "stream",
          "name": "stdout",
          "text": [
            "[1, 4, 7]\n",
            "[2, 5, 8]\n",
            "[3, 6, 9]\n"
          ]
        }
      ]
    },
    {
      "cell_type": "code",
      "source": [
        "#5. El máximo y mínimo elemento en una matriz.\n",
        "def encontrar_maximo_minimo():\n",
        "    # aqui se crea una matriz vacía de 3x3\n",
        "    matriz = np.zeros((3, 3))\n",
        "\n",
        "    # se solicita al usuario que ingrese los valores de la matriz\n",
        "    for fila in range(3):\n",
        "        for columna in range(3):\n",
        "            valor = float(input(f\"Por favor, ingresa el valor en la posición ({fila+1}, {columna+1}): \"))\n",
        "            matriz[fila, columna] = valor\n",
        "\n",
        "    # encontramos el valor máximo y mínimo en la matriz\n",
        "    maximo = np.max(matriz)\n",
        "    minimo = np.min(matriz)\n",
        "\n",
        "    print(\"La matriz que has ingresado es la siguiente:\")\n",
        "    print(matriz)\n",
        "    print(f\"El valor máximo en la matriz es: {maximo}\")\n",
        "    print(f\"El valor mínimo en la matriz es: {minimo}\")\n",
        "\n",
        "# se llama a la función\n",
        "encontrar_maximo_minimo()"
      ],
      "metadata": {
        "colab": {
          "base_uri": "https://localhost:8080/"
        },
        "id": "p0EoSFv6qb-y",
        "outputId": "eea0ec5b-a5ff-4c2d-8375-0627fee2d18f"
      },
      "execution_count": 23,
      "outputs": [
        {
          "output_type": "stream",
          "name": "stdout",
          "text": [
            "Por favor, ingresa el valor en la posición (1, 1): 1\n",
            "Por favor, ingresa el valor en la posición (1, 2): 2\n",
            "Por favor, ingresa el valor en la posición (1, 3): 3\n",
            "Por favor, ingresa el valor en la posición (2, 1): 4\n",
            "Por favor, ingresa el valor en la posición (2, 2): 5\n",
            "Por favor, ingresa el valor en la posición (2, 3): 6\n",
            "Por favor, ingresa el valor en la posición (3, 1): 7\n",
            "Por favor, ingresa el valor en la posición (3, 2): 8\n",
            "Por favor, ingresa el valor en la posición (3, 3): 9\n",
            "La matriz que has ingresado es la siguiente:\n",
            "[[1. 2. 3.]\n",
            " [4. 5. 6.]\n",
            " [7. 8. 9.]]\n",
            "El valor máximo en la matriz es: 9.0\n",
            "El valor mínimo en la matriz es: 1.0\n"
          ]
        }
      ]
    },
    {
      "cell_type": "code",
      "source": [
        "#6. La suma del cuadrado de los elementos de una matriz.\n",
        "# Definimos una matriz\n",
        "matriz = [[1, 2, 3],\n",
        "          [4, 5, 6],\n",
        "          [7, 8, 9]]\n",
        "\n",
        "# Inicializar una variable para la suma de los cuadrados\n",
        "suma= 0\n",
        "\n",
        "# Recorrer la matriz y calcular la suma de los cuadrados\n",
        "for x in matriz:\n",
        "    for y in x:\n",
        "        suma+= y ** 2\n",
        "\n",
        "# Imprimir la suma de los cuadrados\n",
        "print(f\"La suma de los cuadrados de los elementos de la matriz es: {suma}\", )"
      ],
      "metadata": {
        "colab": {
          "base_uri": "https://localhost:8080/"
        },
        "id": "-lgQSNMyqyog",
        "outputId": "725fc27e-16f9-4166-fd16-f9bdcbd38a43"
      },
      "execution_count": 42,
      "outputs": [
        {
          "output_type": "stream",
          "name": "stdout",
          "text": [
            "La suma de los cuadrados de los elementos de la matriz es:285\n"
          ]
        }
      ]
    },
    {
      "cell_type": "code",
      "source": [
        "#7. La potencia de matrices.34\n",
        "5\n",
        "def calcular_potencia_de_matriz():\n",
        "    # primero creamos una matriz vacía de 3x3\n",
        "    matriz = np.zeros((3, 3))\n",
        "\n",
        "    # le pedimos al usuario que ingrese los valores de la matriz\n",
        "    for fila in range(3):\n",
        "        for columna in range(3):\n",
        "            valor = float(input(f\"Por favor, ingresa el valor en la posición ({fila+1}, {columna+1}): \"))\n",
        "            matriz[fila, columna] = valor\n",
        "\n",
        "    # le edimos al usuario que ingrese la potencia deseada\n",
        "    potencia = int(input(\"Por favor, introduce la potencia a la que deseas elevar la matriz: \"))\n",
        "\n",
        "    # ahora calculamos la matriz elevada a la potencia requerida\n",
        "    resultado = np.linalg.matrix_power(matriz, potencia)\n",
        "\n",
        "    print(\"La matriz que has ingresado es la siguiente:\")\n",
        "    print(matriz)\n",
        "    print(f\"La matriz elevada a la potencia {potencia} es la siguiente:\")\n",
        "    print(resultado)\n",
        "\n",
        "# para concluir llamamos a la función\n",
        "calcular_potencia_de_matriz()"
      ],
      "metadata": {
        "colab": {
          "base_uri": "https://localhost:8080/"
        },
        "id": "afu5FHyft6nf",
        "outputId": "c92c0cd3-d0d1-4264-e977-83a5a7fb79da"
      },
      "execution_count": 45,
      "outputs": [
        {
          "output_type": "stream",
          "name": "stdout",
          "text": [
            "Por favor, ingresa el valor en la posición (1, 1): 1\n",
            "Por favor, ingresa el valor en la posición (1, 2): 2\n",
            "Por favor, ingresa el valor en la posición (1, 3): 3\n",
            "Por favor, ingresa el valor en la posición (2, 1): 4\n",
            "Por favor, ingresa el valor en la posición (2, 2): 5\n",
            "Por favor, ingresa el valor en la posición (2, 3): 6\n",
            "Por favor, ingresa el valor en la posición (3, 1): 7\n",
            "Por favor, ingresa el valor en la posición (3, 2): 8\n",
            "Por favor, ingresa el valor en la posición (3, 3): 9\n",
            "Por favor, introduce la potencia a la que deseas elevar la matriz: 2\n",
            "La matriz que has ingresado es la siguiente:\n",
            "[[1. 2. 3.]\n",
            " [4. 5. 6.]\n",
            " [7. 8. 9.]]\n",
            "La matriz elevada a la potencia 2 es la siguiente:\n",
            "[[ 30.  36.  42.]\n",
            " [ 66.  81.  96.]\n",
            " [102. 126. 150.]]\n"
          ]
        }
      ]
    }
  ]
}