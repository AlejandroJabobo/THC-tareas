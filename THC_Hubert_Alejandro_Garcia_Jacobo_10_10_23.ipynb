{
  "nbformat": 4,
  "nbformat_minor": 0,
  "metadata": {
    "colab": {
      "provenance": [],
      "authorship_tag": "ABX9TyNHqZzP5TR9OYvPic4Dr4Nt",
      "include_colab_link": true
    },
    "kernelspec": {
      "name": "python3",
      "display_name": "Python 3"
    },
    "language_info": {
      "name": "python"
    }
  },
  "cells": [
    {
      "cell_type": "markdown",
      "metadata": {
        "id": "view-in-github",
        "colab_type": "text"
      },
      "source": [
        "<a href=\"https://colab.research.google.com/github/AlejandroJabobo/THC-tareas/blob/main/THC_Hubert_Alejandro_Garcia_Jacobo_10_10_23.ipynb\" target=\"_parent\"><img src=\"https://colab.research.google.com/assets/colab-badge.svg\" alt=\"Open In Colab\"/></a>"
      ]
    },
    {
      "cell_type": "code",
      "execution_count": null,
      "metadata": {
        "colab": {
          "base_uri": "https://localhost:8080/"
        },
        "id": "xy3luzn7vPZi",
        "outputId": "d39357e0-b103-40a0-cb26-b49213cf8d85"
      },
      "outputs": [
        {
          "output_type": "stream",
          "name": "stdout",
          "text": [
            "{'name': 'alejandro', 'mag': 2.0, 'year': 2023}\n"
          ]
        }
      ],
      "source": [
        "diccionario= {\n",
        "  \"name\": \"alejandro\",\n",
        "   \"mag\":2.0,\n",
        "   \"year\": 2023\n",
        "}\n",
        "\n",
        "print(diccionario)"
      ]
    },
    {
      "cell_type": "code",
      "source": [
        "diccionario= {\n",
        "  \"name\": \"alejandro\",\n",
        "   \"mag\":2.0,\n",
        "   \"year\": 2023\n",
        "}\n",
        "l= []\n",
        "for i in diccionario.keys():\n",
        "  l.append(diccionario[i])\n",
        "print(l)"
      ],
      "metadata": {
        "colab": {
          "base_uri": "https://localhost:8080/"
        },
        "id": "2MqGTV30w5Ta",
        "outputId": "32a5728a-5094-4496-bafc-867cb9356184"
      },
      "execution_count": null,
      "outputs": [
        {
          "output_type": "stream",
          "name": "stdout",
          "text": [
            "['alejandro', 2.0, 2023]\n"
          ]
        }
      ]
    },
    {
      "cell_type": "code",
      "source": [
        "import pandas as pd\n",
        "datos= {\n",
        "  \"nombre\": [\"juan\",\"pedro\",\"luis\",\"carol\"],\n",
        "  \"edad\": [30, 10, 20, 18],\n",
        "  \"ciudad\": [\"hidalgo\", \"monterey\", \"leon\", \"mexico\"]\n",
        "}\n",
        "dataframe= pd.DataFrame(datos)\n",
        "print(dataframe)\n",
        "\n"
      ],
      "metadata": {
        "colab": {
          "base_uri": "https://localhost:8080/"
        },
        "id": "pXPGoiHYyQfx",
        "outputId": "2473171d-c3d6-4c32-ce6d-6cced3935d42"
      },
      "execution_count": null,
      "outputs": [
        {
          "output_type": "stream",
          "name": "stdout",
          "text": [
            "  nombre  edad    ciudad\n",
            "0   juan    30   hidalgo\n",
            "1  pedro    10  monterey\n",
            "2   luis    20      leon\n",
            "3  carol    18    mexico\n"
          ]
        }
      ]
    },
    {
      "cell_type": "code",
      "source": [
        "frutas=[\"naranja\", \"sandia\", \"manzana\", \"kiwi\"]\n",
        "for fruta in frutas:\n",
        "  print(fruta)"
      ],
      "metadata": {
        "colab": {
          "base_uri": "https://localhost:8080/"
        },
        "id": "gNMelTiy0gDi",
        "outputId": "3299451f-a5e0-47b5-c383-74ca2b5b4e36"
      },
      "execution_count": null,
      "outputs": [
        {
          "output_type": "stream",
          "name": "stdout",
          "text": [
            "naranja\n",
            "sandia\n",
            "manzana\n",
            "kiwi\n"
          ]
        }
      ]
    },
    {
      "cell_type": "code",
      "source": [
        "def my_funcion():\n",
        "  print(\"hola te saludo desde la funcion\")"
      ],
      "metadata": {
        "id": "SEY1MkZg1fj5"
      },
      "execution_count": null,
      "outputs": []
    },
    {
      "cell_type": "code",
      "source": [],
      "metadata": {
        "id": "b2iDdJph3Lm2"
      },
      "execution_count": null,
      "outputs": []
    },
    {
      "cell_type": "code",
      "source": [
        "def my_funcion_nueva(fname):\n",
        "  print(\"hola \" +fname+ \" te saludo desde la funcion\")\n",
        "\n",
        "my_funcion_nueva(\"alejandro\")\n"
      ],
      "metadata": {
        "colab": {
          "base_uri": "https://localhost:8080/"
        },
        "id": "6hjDsoq122d6",
        "outputId": "7840735b-fd76-4b73-f96d-3d5d3c565160"
      },
      "execution_count": null,
      "outputs": [
        {
          "output_type": "stream",
          "name": "stdout",
          "text": [
            "hola alejandro te saludo desde la funcion\n"
          ]
        }
      ]
    },
    {
      "cell_type": "code",
      "source": [
        "def nombre(fname, lname):\n",
        "  print(\"hola \" +fname+\" \"+lname+ \" te saludo desde la funcion\")\n",
        "nombre(\"Alejandro\", \"GJ\")\n"
      ],
      "metadata": {
        "colab": {
          "base_uri": "https://localhost:8080/"
        },
        "id": "4kOQHevZ4DC_",
        "outputId": "c5ca9c49-3b21-4448-fff4-dfc7620c9306"
      },
      "execution_count": null,
      "outputs": [
        {
          "output_type": "stream",
          "name": "stdout",
          "text": [
            "hola Alejandro GJ te saludo desde la funcion\n"
          ]
        }
      ]
    },
    {
      "cell_type": "code",
      "source": [
        "def mi_funcion(*kids):\n",
        "  print(\"el niño menor es \" +kids[1])\n",
        "\n",
        "mi_funcion(\"emil\", \"klee\", \"grogu\")"
      ],
      "metadata": {
        "colab": {
          "base_uri": "https://localhost:8080/"
        },
        "id": "aZE48uBH4uwx",
        "outputId": "42415d1b-3c3d-4a79-d33e-3869c26e125c"
      },
      "execution_count": null,
      "outputs": [
        {
          "output_type": "stream",
          "name": "stdout",
          "text": [
            "el niño menor es klee\n"
          ]
        }
      ]
    },
    {
      "cell_type": "code",
      "source": [
        " def sum_vec(A=[1,2,3,4,5],B=[6,7,8,9,10]):\n",
        "  if len(A)==len(B):\n",
        "    n=len(A)\n",
        "    C=[]\n",
        "    for i in range(n-1):\n",
        "      C[i]=A[i]+B[i]\n",
        "      C.append(C[i])\n",
        "      print(\"la suma de \"+A+B+ \"= \" +C)\n",
        "sum_vec()"
      ],
      "metadata": {
        "colab": {
          "base_uri": "https://localhost:8080/",
          "height": 331
        },
        "id": "exb1xBA17Fvz",
        "outputId": "a869e503-c1ce-4925-99bc-d2df06605b31"
      },
      "execution_count": null,
      "outputs": [
        {
          "output_type": "error",
          "ename": "IndexError",
          "evalue": "ignored",
          "traceback": [
            "\u001b[0;31m---------------------------------------------------------------------------\u001b[0m",
            "\u001b[0;31mIndexError\u001b[0m                                Traceback (most recent call last)",
            "\u001b[0;32m<ipython-input-71-486380611c0d>\u001b[0m in \u001b[0;36m<cell line: 9>\u001b[0;34m()\u001b[0m\n\u001b[1;32m      7\u001b[0m      \u001b[0mC\u001b[0m\u001b[0;34m.\u001b[0m\u001b[0mappend\u001b[0m\u001b[0;34m(\u001b[0m\u001b[0mC\u001b[0m\u001b[0;34m[\u001b[0m\u001b[0mi\u001b[0m\u001b[0;34m]\u001b[0m\u001b[0;34m)\u001b[0m\u001b[0;34m\u001b[0m\u001b[0;34m\u001b[0m\u001b[0m\n\u001b[1;32m      8\u001b[0m      \u001b[0mprint\u001b[0m\u001b[0;34m(\u001b[0m\u001b[0;34m\"la suma de \"\u001b[0m\u001b[0;34m+\u001b[0m\u001b[0mA\u001b[0m\u001b[0;34m+\u001b[0m\u001b[0mB\u001b[0m\u001b[0;34m+\u001b[0m \u001b[0;34m\"= \"\u001b[0m \u001b[0;34m+\u001b[0m\u001b[0mC\u001b[0m\u001b[0;34m)\u001b[0m\u001b[0;34m\u001b[0m\u001b[0;34m\u001b[0m\u001b[0m\n\u001b[0;32m----> 9\u001b[0;31m \u001b[0msum_vec\u001b[0m\u001b[0;34m(\u001b[0m\u001b[0;34m)\u001b[0m\u001b[0;34m\u001b[0m\u001b[0;34m\u001b[0m\u001b[0m\n\u001b[0m",
            "\u001b[0;32m<ipython-input-71-486380611c0d>\u001b[0m in \u001b[0;36msum_vec\u001b[0;34m(A, B)\u001b[0m\n\u001b[1;32m      4\u001b[0m    \u001b[0mC\u001b[0m\u001b[0;34m=\u001b[0m\u001b[0;34m[\u001b[0m\u001b[0;34m]\u001b[0m\u001b[0;34m\u001b[0m\u001b[0;34m\u001b[0m\u001b[0m\n\u001b[1;32m      5\u001b[0m    \u001b[0;32mfor\u001b[0m \u001b[0mi\u001b[0m \u001b[0;32min\u001b[0m \u001b[0mrange\u001b[0m\u001b[0;34m(\u001b[0m\u001b[0mn\u001b[0m\u001b[0;34m-\u001b[0m\u001b[0;36m1\u001b[0m\u001b[0;34m)\u001b[0m\u001b[0;34m:\u001b[0m\u001b[0;34m\u001b[0m\u001b[0;34m\u001b[0m\u001b[0m\n\u001b[0;32m----> 6\u001b[0;31m      \u001b[0mC\u001b[0m\u001b[0;34m[\u001b[0m\u001b[0mi\u001b[0m\u001b[0;34m]\u001b[0m\u001b[0;34m=\u001b[0m\u001b[0mA\u001b[0m\u001b[0;34m[\u001b[0m\u001b[0mi\u001b[0m\u001b[0;34m]\u001b[0m\u001b[0;34m+\u001b[0m\u001b[0mB\u001b[0m\u001b[0;34m[\u001b[0m\u001b[0mi\u001b[0m\u001b[0;34m]\u001b[0m\u001b[0;34m\u001b[0m\u001b[0;34m\u001b[0m\u001b[0m\n\u001b[0m\u001b[1;32m      7\u001b[0m      \u001b[0mC\u001b[0m\u001b[0;34m.\u001b[0m\u001b[0mappend\u001b[0m\u001b[0;34m(\u001b[0m\u001b[0mC\u001b[0m\u001b[0;34m[\u001b[0m\u001b[0mi\u001b[0m\u001b[0;34m]\u001b[0m\u001b[0;34m)\u001b[0m\u001b[0;34m\u001b[0m\u001b[0;34m\u001b[0m\u001b[0m\n\u001b[1;32m      8\u001b[0m      \u001b[0mprint\u001b[0m\u001b[0;34m(\u001b[0m\u001b[0;34m\"la suma de \"\u001b[0m\u001b[0;34m+\u001b[0m\u001b[0mA\u001b[0m\u001b[0;34m+\u001b[0m\u001b[0mB\u001b[0m\u001b[0;34m+\u001b[0m \u001b[0;34m\"= \"\u001b[0m \u001b[0;34m+\u001b[0m\u001b[0mC\u001b[0m\u001b[0;34m)\u001b[0m\u001b[0;34m\u001b[0m\u001b[0;34m\u001b[0m\u001b[0m\n",
            "\u001b[0;31mIndexError\u001b[0m: list assignment index out of range"
          ]
        }
      ]
    }
  ]
}