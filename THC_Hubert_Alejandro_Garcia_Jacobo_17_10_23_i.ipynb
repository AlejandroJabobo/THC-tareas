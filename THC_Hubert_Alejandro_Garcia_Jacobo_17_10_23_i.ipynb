{
  "nbformat": 4,
  "nbformat_minor": 0,
  "metadata": {
    "colab": {
      "provenance": [],
      "authorship_tag": "ABX9TyPf0gpYd3FS5MGEgb/TCGo0",
      "include_colab_link": true
    },
    "kernelspec": {
      "name": "python3",
      "display_name": "Python 3"
    },
    "language_info": {
      "name": "python"
    }
  },
  "cells": [
    {
      "cell_type": "markdown",
      "metadata": {
        "id": "view-in-github",
        "colab_type": "text"
      },
      "source": [
        "<a href=\"https://colab.research.google.com/github/AlejandroJabobo/THC-tareas/blob/main/THC_Hubert_Alejandro_Garcia_Jacobo_17_10_23_i.ipynb\" target=\"_parent\"><img src=\"https://colab.research.google.com/assets/colab-badge.svg\" alt=\"Open In Colab\"/></a>"
      ]
    },
    {
      "cell_type": "code",
      "execution_count": null,
      "metadata": {
        "colab": {
          "base_uri": "https://localhost:8080/"
        },
        "id": "9pV5FiHSwDlu",
        "outputId": "aef15f94-16b4-4d8f-cf2f-276c2c71e744"
      },
      "outputs": [
        {
          "output_type": "stream",
          "name": "stdout",
          "text": [
            "2\n",
            "6\n",
            "-5\n",
            "23\n",
            "10\n"
          ]
        }
      ],
      "source": [
        "import math\n",
        "\n",
        "print(math.ceil(1.4))\n",
        "print(math.ceil(5.3))\n",
        "print(math.ceil(-5.3))\n",
        "print(math.ceil(22.6))\n",
        "print(math.ceil(10.0))"
      ]
    },
    {
      "cell_type": "code",
      "source": [
        "import math\n",
        "n= 7\n",
        "k = 5\n",
        "print(math.comb(n,k))"
      ],
      "metadata": {
        "colab": {
          "base_uri": "https://localhost:8080/"
        },
        "id": "NA_o5imKxdDh",
        "outputId": "8c2fd59a-6111-4103-e261-052392cb9952"
      },
      "execution_count": null,
      "outputs": [
        {
          "output_type": "stream",
          "name": "stdout",
          "text": [
            "21\n"
          ]
        }
      ]
    },
    {
      "cell_type": "code",
      "source": [
        "import math\n",
        "p = [3,3]\n",
        "q = [6,12]\n",
        "\n",
        "print(math.dist(p,q))"
      ],
      "metadata": {
        "colab": {
          "base_uri": "https://localhost:8080/"
        },
        "id": "mQuPAoaTxrp4",
        "outputId": "62344508-df49-4f5d-9aa4-579b2d58d6be"
      },
      "execution_count": null,
      "outputs": [
        {
          "output_type": "stream",
          "name": "stdout",
          "text": [
            "9.486832980505138\n"
          ]
        }
      ]
    },
    {
      "cell_type": "code",
      "source": [
        "import math\n",
        "print(math.isinf(math.inf))\n",
        "print(math.isinf(-math.inf))\n",
        "print(math.isinf(4))\n"
      ],
      "metadata": {
        "colab": {
          "base_uri": "https://localhost:8080/"
        },
        "id": "h1HEWZh9ybAY",
        "outputId": "8d45acfe-abf5-4bd8-8388-c5b5f6582992"
      },
      "execution_count": null,
      "outputs": [
        {
          "output_type": "stream",
          "name": "stdout",
          "text": [
            "True\n",
            "True\n",
            "False\n"
          ]
        }
      ]
    },
    {
      "cell_type": "code",
      "source": [
        "import random\n",
        "\n",
        "print(random.randint(3,9))"
      ],
      "metadata": {
        "colab": {
          "base_uri": "https://localhost:8080/"
        },
        "id": "1G6jDrkkzm-f",
        "outputId": "9b6b198c-87cc-4ec2-ffbd-ad186f405d6d"
      },
      "execution_count": null,
      "outputs": [
        {
          "output_type": "stream",
          "name": "stdout",
          "text": [
            "6\n"
          ]
        }
      ]
    },
    {
      "cell_type": "code",
      "source": [],
      "metadata": {
        "id": "Qjm-vCdI1Bv_"
      },
      "execution_count": null,
      "outputs": []
    },
    {
      "cell_type": "code",
      "source": [
        "import random\n",
        "mylist = [\"a\", \"b\",\"c\"]\n",
        "print(random.choice(mylist))"
      ],
      "metadata": {
        "colab": {
          "base_uri": "https://localhost:8080/"
        },
        "id": "diBeLity0gcv",
        "outputId": "706277de-fd86-47c5-8c4c-d53187f3da17"
      },
      "execution_count": null,
      "outputs": [
        {
          "output_type": "stream",
          "name": "stdout",
          "text": [
            "b\n"
          ]
        }
      ]
    },
    {
      "cell_type": "code",
      "source": [
        "A= [[1,2,3],[4,5,6],[7,8,9]]\n",
        "for i in range (len(A)):\n",
        "  for j in range (len(A)):\n",
        "    print(A[i][j])\n",
        "\n"
      ],
      "metadata": {
        "colab": {
          "base_uri": "https://localhost:8080/"
        },
        "id": "9wT37HeH4013",
        "outputId": "5d023f9e-27af-41c4-aa2c-0edae6d65d0f"
      },
      "execution_count": null,
      "outputs": [
        {
          "output_type": "stream",
          "name": "stdout",
          "text": [
            "1\n",
            "2\n",
            "3\n",
            "4\n",
            "5\n",
            "6\n",
            "7\n",
            "8\n",
            "9\n"
          ]
        }
      ]
    },
    {
      "cell_type": "code",
      "source": [
        "A= [[1,2,3],[4,5,6],[7,8,9]]\n",
        "for i in range (len(A)):\n",
        "  for j in range (len(A)):\n",
        "    print(A[j][i])"
      ],
      "metadata": {
        "colab": {
          "base_uri": "https://localhost:8080/"
        },
        "id": "r0QUHg7072NU",
        "outputId": "39b80b77-92cb-4e8d-e28a-02a1a8bed9f7"
      },
      "execution_count": null,
      "outputs": [
        {
          "output_type": "stream",
          "name": "stdout",
          "text": [
            "1\n",
            "4\n",
            "7\n",
            "2\n",
            "5\n",
            "8\n",
            "3\n",
            "6\n",
            "9\n"
          ]
        }
      ]
    },
    {
      "cell_type": "code",
      "source": [
        "L= [5,4,3,2,1]\n",
        "n= len(L)\n",
        "for i in range (n-1):\n",
        "  if L[i]>L[i+1]:\n",
        "    aux=L[i+1]\n",
        "    L[i+1]=L[i]\n",
        "    L[i]=aux\n",
        "    print(L)"
      ],
      "metadata": {
        "colab": {
          "base_uri": "https://localhost:8080/"
        },
        "id": "-Q4AR4IND1la",
        "outputId": "8d7f2df8-10e1-4d0b-b1f6-caea17850afe"
      },
      "execution_count": null,
      "outputs": [
        {
          "output_type": "stream",
          "name": "stdout",
          "text": [
            "[4, 5, 3, 2, 1]\n",
            "[4, 3, 5, 2, 1]\n",
            "[4, 3, 2, 5, 1]\n",
            "[4, 3, 2, 1, 5]\n"
          ]
        }
      ]
    },
    {
      "cell_type": "code",
      "source": [],
      "metadata": {
        "id": "Fmmr4zZpH8ZU"
      },
      "execution_count": null,
      "outputs": []
    }
  ]
}