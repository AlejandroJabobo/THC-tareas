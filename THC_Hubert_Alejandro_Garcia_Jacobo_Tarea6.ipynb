{
  "nbformat": 4,
  "nbformat_minor": 0,
  "metadata": {
    "colab": {
      "provenance": [],
      "authorship_tag": "ABX9TyPDgR+vv46R6NQ/bqOSf9fK",
      "include_colab_link": true
    },
    "kernelspec": {
      "name": "python3",
      "display_name": "Python 3"
    },
    "language_info": {
      "name": "python"
    }
  },
  "cells": [
    {
      "cell_type": "markdown",
      "metadata": {
        "id": "view-in-github",
        "colab_type": "text"
      },
      "source": [
        "<a href=\"https://colab.research.google.com/github/AlejandroJabobo/THC-tareas/blob/main/THC_Hubert_Alejandro_Garcia_Jacobo_Tarea6.ipynb\" target=\"_parent\"><img src=\"https://colab.research.google.com/assets/colab-badge.svg\" alt=\"Open In Colab\"/></a>"
      ]
    },
    {
      "cell_type": "markdown",
      "source": [
        "**Tarea 6**\n",
        "\n",
        "Garcia Jacob Hubert Alejandro\n",
        "\n",
        "Taller de Herramientas de Computo"
      ],
      "metadata": {
        "id": "quKckAf7WdZq"
      }
    },
    {
      "cell_type": "code",
      "source": [
        "def prod_vec(A=[1, 2, 3, 4, 5], B=[6, 7, 8, 9, 10]):\n",
        "    if len(A) == len(B):\n",
        "        n = len(A)\n",
        "        C = []\n",
        "        for i in range(n):\n",
        "            C.append(A[i] * B[i])\n",
        "        print(\"El producto de {} * {} = {}\".format(A, B, C))\n",
        "\n",
        "prod_vec()"
      ],
      "metadata": {
        "colab": {
          "base_uri": "https://localhost:8080/"
        },
        "id": "kQhzKy_CbPKo",
        "outputId": "45e09940-467b-47d4-8457-9d96b1c95f14"
      },
      "execution_count": 17,
      "outputs": [
        {
          "output_type": "stream",
          "name": "stdout",
          "text": [
            "El producto de [1, 2, 3, 4, 5] * [6, 7, 8, 9, 10] = [6, 14, 24, 36, 50]\n"
          ]
        }
      ]
    },
    {
      "cell_type": "code",
      "source": [
        "def elevar_al_cubo(vector):\n",
        "    return [x**3 for x in vector]\n",
        "\n",
        "vector1 = [1, 2, 3]\n",
        "vector2 = [4, 5, 6]\n",
        "\n",
        "resultado1 = elevar_al_cubo(vector1)\n",
        "resultado2 = elevar_al_cubo(vector2)\n",
        "\n",
        "print(\"Vector 1 elevado al cubo:\", resultado1)\n",
        "print(\"Vector 2 elevado al cubo:\", resultado2)"
      ],
      "metadata": {
        "colab": {
          "base_uri": "https://localhost:8080/"
        },
        "id": "s_kXlc3mays5",
        "outputId": "c8e8ead8-134c-464d-87fa-0f264c0fd351"
      },
      "execution_count": 14,
      "outputs": [
        {
          "output_type": "stream",
          "name": "stdout",
          "text": [
            "Vector 1 elevado al cubo: [1, 8, 27]\n",
            "Vector 2 elevado al cubo: [64, 125, 216]\n"
          ]
        }
      ]
    },
    {
      "cell_type": "code",
      "execution_count": 13,
      "metadata": {
        "colab": {
          "base_uri": "https://localhost:8080/"
        },
        "id": "5u8C_pOXVvn0",
        "outputId": "6abaffa0-b886-433d-f520-6295fa4061f4"
      },
      "outputs": [
        {
          "output_type": "stream",
          "name": "stdout",
          "text": [
            "El producto escalar de los vectores es: 130\n"
          ]
        }
      ],
      "source": [
        "def producto_escalar(v, w):\n",
        "    if len(v) == len(w):\n",
        "        resultado = sum(x * y for x, y in zip(v, w))\n",
        "        return resultado\n",
        "vector1 = [1, 2, 3,4 ,5]\n",
        "vector2 = [6, 7, 8, 9, 10]\n",
        "resultado = producto_escalar(vector1, vector2)\n",
        "print(\"El producto escalar de los vectores es:\", resultado)"
      ]
    }
  ]
}